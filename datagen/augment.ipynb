{
 "cells": [
  {
   "cell_type": "code",
   "execution_count": 61,
   "metadata": {},
   "outputs": [],
   "source": [
    "import os\n",
    "import pandas as pd \n",
    "import matplotlib.pyplot as plt"
   ]
  },
  {
   "cell_type": "code",
   "execution_count": 62,
   "metadata": {},
   "outputs": [],
   "source": [
    "LENGTH = 214\n",
    "MAX_TAIL = 3 # Max alanine tail length\n",
    "TAG_NAMES = [\"T7\", \"V5\", \"S\", \"HAT\"]\n",
    "TAG_LENS = [11, 14, 15, 19]\n",
    "TAG_SEQS = [\"MASMTGGQQMG\", \"GKPIPNPLLGLDST\", \"KETAAAKFERQHMDS\", \"KDHLIHNVHKEFHAHAHNK\"]\n",
    "LINK_LENS = [20, 29]\n",
    "LINK_SEQS = [\"GGGSGGGSGGGSGGPGS\", \"GSGGGSGGSGGGGSGGGGSGGGGSGGGGS\"]\n",
    "LEN_RANGE = (90, 335)\n",
    "\n",
    "DDIR = \"../../pdb/bylen/\"\n",
    "ODIR = \"../../pdb/proc/\""
   ]
  },
  {
   "cell_type": "code",
   "execution_count": 63,
   "metadata": {},
   "outputs": [],
   "source": [
    "if not os.path.isdir(ODIR):\n",
    "    os.mkdir(ODIR)"
   ]
  },
  {
   "cell_type": "code",
   "execution_count": 64,
   "metadata": {},
   "outputs": [],
   "source": [
    "# Load sequences with fixed length\n",
    "data = pd.read_csv(DDIR+\"pdb_seq_{}.csv\".format(LENGTH), sep=',')[\"seq\"]\n",
    "data = pd.DataFrame(data.apply(list).to_list())\n",
    "data.to_csv(ODIR+'test.csv', index=False)\n",
    "INIT_DATA = data.shape[0]\n",
    "data = None"
   ]
  },
  {
   "cell_type": "code",
   "execution_count": 65,
   "metadata": {},
   "outputs": [],
   "source": [
    "# Load sequences with alanine tail\n",
    "for alen in range(1, MAX_TAIL+1):\n",
    "    adata = pd.read_csv(DDIR+\"pdb_seq_{}.csv\".format(LENGTH-alen), delimiter=',')\n",
    "    adata = adata[\"seq\"] + \"A\"*alen\n",
    "    adata = pd.DataFrame(adata.apply(list).to_list())\n",
    "    if data is None:\n",
    "        data = adata\n",
    "    else:\n",
    "        data = pd.concat([data, adata])"
   ]
  },
  {
   "cell_type": "code",
   "execution_count": 66,
   "metadata": {},
   "outputs": [],
   "source": [
    "# Load sequences with tag tail\n",
    "for tlen, tseq in zip(TAG_LENS, TAG_SEQS):\n",
    "    tdata = pd.read_csv(DDIR+\"pdb_seq_{}.csv\".format(LENGTH-tlen), delimiter=',')\n",
    "    tdata = tdata[\"seq\"] + tseq\n",
    "    tdata = pd.DataFrame(tdata.apply(list).to_list())\n",
    "    data = pd.concat([data, tdata])"
   ]
  },
  {
   "cell_type": "code",
   "execution_count": 67,
   "metadata": {},
   "outputs": [],
   "source": [
    "# Load sequences linked with linker\n",
    "augseqs = []\n",
    "for llen, lseq in zip(LINK_LENS, LINK_SEQS):\n",
    "    for slen in range(90, LENGTH-llen-89):\n",
    "        elen = LENGTH-llen-slen\n",
    "        sdata = pd.read_csv(DDIR+\"pdb_seq_{}.csv\".format(slen), delimiter=',')[\"seq\"].tolist()\n",
    "        edata = pd.read_csv(DDIR+\"pdb_seq_{}.csv\".format(elen), delimiter=',')[\"seq\"].tolist()\n",
    "        for s in sdata:\n",
    "            for e in edata:\n",
    "                augseqs.append(list(s+lseq+e))\n",
    "                break"
   ]
  },
  {
   "cell_type": "code",
   "execution_count": 68,
   "metadata": {},
   "outputs": [
    {
     "name": "stdout",
     "output_type": "stream",
     "text": [
      "897 9471 10\n"
     ]
    }
   ],
   "source": [
    "data = pd.concat([data, pd.DataFrame(augseqs)])\n",
    "AUG_DATA = data.shape[0]\n",
    "print(INIT_DATA, AUG_DATA, AUG_DATA//INIT_DATA) "
   ]
  },
  {
   "cell_type": "code",
   "execution_count": 69,
   "metadata": {},
   "outputs": [],
   "source": [
    "data[\"ptn\"] = 1\n",
    "data.to_csv(ODIR+\"data.csv\", index=False)"
   ]
  },
  {
   "cell_type": "code",
   "execution_count": null,
   "metadata": {},
   "outputs": [],
   "source": []
  }
 ],
 "metadata": {
  "interpreter": {
   "hash": "1655f7b6d6dd3cd605b5161caaa9ba77e0dd585229459a61fda143aaabda3baa"
  },
  "kernelspec": {
   "display_name": "Python 3.7.11 64-bit ('dhh': conda)",
   "language": "python",
   "name": "python3"
  },
  "language_info": {
   "codemirror_mode": {
    "name": "ipython",
    "version": 3
   },
   "file_extension": ".py",
   "mimetype": "text/x-python",
   "name": "python",
   "nbconvert_exporter": "python",
   "pygments_lexer": "ipython3",
   "version": "3.7.11"
  },
  "orig_nbformat": 4
 },
 "nbformat": 4,
 "nbformat_minor": 2
}
